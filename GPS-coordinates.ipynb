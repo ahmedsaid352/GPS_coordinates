{
 "cells": [
  {
   "cell_type": "code",
   "execution_count": 2,
   "id": "24f4a889",
   "metadata": {},
   "outputs": [],
   "source": [
    "import pandas as pd\n",
    "from bs4 import BeautifulSoup\n",
    "import requests"
   ]
  },
  {
   "cell_type": "code",
   "execution_count": 8,
   "id": "9a3e3bbf",
   "metadata": {},
   "outputs": [],
   "source": [
    "with open('html.txt', 'r', encoding='utf8') as file:\n",
    "    html = file.read().replace('\\n', '')\n",
    "\n",
    "soup = BeautifulSoup(html, 'html.parser')"
   ]
  },
  {
   "cell_type": "code",
   "execution_count": 17,
   "id": "ed087b3d",
   "metadata": {},
   "outputs": [],
   "source": [
    "# get the countries urls\n",
    "urls = soup.select('#main-content > div.b-countries-listing > ul > li> a') "
   ]
  },
  {
   "cell_type": "code",
   "execution_count": 22,
   "id": "023b8a47",
   "metadata": {},
   "outputs": [],
   "source": [
    "links=[]\n",
    "for i in range(len(urls)):\n",
    "    links.append('https://latitude.to'+urls[i]['href'])"
   ]
  },
  {
   "cell_type": "code",
   "execution_count": 76,
   "id": "c65d6eee",
   "metadata": {},
   "outputs": [],
   "source": [
    "names=[]\n",
    "latitudes=[]\n",
    "longitudes=[] "
   ]
  },
  {
   "cell_type": "code",
   "execution_count": 127,
   "id": "bc956635",
   "metadata": {},
   "outputs": [],
   "source": [
    "for link in links:\n",
    "    result = requests.get(link).content\n",
    "    newsoup = BeautifulSoup(result, \"lxml\")\n",
    "    lat_long=newsoup.select('#main-content > div.right-col > div > p.desc')\n",
    "    lat_long[0]=lat_long[0].text.split(':')\n",
    "    try:\n",
    "        latitudes.append(lat_long[0][1][:-9].replace(\"\\'\",\"\"))\n",
    "    except:\n",
    "        latitudes.append(\"not found\")\n",
    "    try:\n",
    "        longitudes.append(lat_long[0][2].replace(\"\\'\",\"\"))\n",
    "    except:\n",
    "        longitudes.append(\"not found\")"
   ]
  },
  {
   "cell_type": "markdown",
   "id": "4296e6a0",
   "metadata": {},
   "source": [
    "## handling output using string methods because latitudes & longitudes in the body as text not element "
   ]
  },
  {
   "cell_type": "code",
   "execution_count": 30,
   "id": "590d0eb1",
   "metadata": {},
   "outputs": [],
   "source": [
    "mystr ='Latitude: 33° 56\\' 2.54\\\" N Longitude: 67° 42\\' 12.35\\\" E'\n",
    "mystr=mystr.split(':')"
   ]
  },
  {
   "cell_type": "code",
   "execution_count": 126,
   "id": "bf641ce9",
   "metadata": {},
   "outputs": [
    {
     "data": {
      "text/plain": [
       "' -19° 01\\' 0.92\" S'"
      ]
     },
     "execution_count": 126,
     "metadata": {},
     "output_type": "execute_result"
    }
   ],
   "source": [
    "lat_long[0][1][:-9]"
   ]
  },
  {
   "cell_type": "code",
   "execution_count": 50,
   "id": "b1e5d0bd",
   "metadata": {},
   "outputs": [
    {
     "data": {
      "text/plain": [
       "' 33° 56 2.54\" N'"
      ]
     },
     "execution_count": 50,
     "metadata": {},
     "output_type": "execute_result"
    }
   ],
   "source": [
    "mystr[1][:-10].replace(\"\\'\",\"\")"
   ]
  },
  {
   "cell_type": "code",
   "execution_count": 59,
   "id": "88b225ad",
   "metadata": {},
   "outputs": [
    {
     "data": {
      "text/plain": [
       "' 67° 42 12.35\" E'"
      ]
     },
     "execution_count": 59,
     "metadata": {},
     "output_type": "execute_result"
    }
   ],
   "source": [
    "mystr[2].replace(\"\\'\",\"\")"
   ]
  },
  {
   "cell_type": "code",
   "execution_count": 71,
   "id": "22265b3f",
   "metadata": {},
   "outputs": [],
   "source": [
    "link ='https://latitude.to/map/af/afghanistan'\n",
    "result = requests.get(link).content\n",
    "newsoup = BeautifulSoup(result, \"lxml\")\n",
    "name = newsoup.select('#main-content > div.right-col > div > div.heading.bg-flag.af > h2 > span:nth-child(2)')\n",
    "lat_long=newsoup.select('#main-content > div.right-col > div > p.desc')"
   ]
  },
  {
   "cell_type": "code",
   "execution_count": null,
   "id": "b33173db",
   "metadata": {},
   "outputs": [],
   "source": []
  },
  {
   "cell_type": "code",
   "execution_count": null,
   "id": "d54c75b4",
   "metadata": {},
   "outputs": [],
   "source": []
  },
  {
   "cell_type": "code",
   "execution_count": 96,
   "id": "da956fc8",
   "metadata": {},
   "outputs": [],
   "source": []
  },
  {
   "cell_type": "code",
   "execution_count": null,
   "id": "4e3ee5f2",
   "metadata": {},
   "outputs": [],
   "source": []
  },
  {
   "cell_type": "code",
   "execution_count": null,
   "id": "aa3a5a77",
   "metadata": {},
   "outputs": [],
   "source": []
  },
  {
   "cell_type": "code",
   "execution_count": 104,
   "id": "2ee4ba16",
   "metadata": {},
   "outputs": [],
   "source": [
    "names =[]"
   ]
  },
  {
   "cell_type": "code",
   "execution_count": 105,
   "id": "ff9f29a8",
   "metadata": {},
   "outputs": [],
   "source": [
    "for url in urls:\n",
    "    names.append(url.text.split('(')[0])"
   ]
  },
  {
   "cell_type": "code",
   "execution_count": null,
   "id": "9c9a246e",
   "metadata": {},
   "outputs": [],
   "source": []
  },
  {
   "cell_type": "code",
   "execution_count": 117,
   "id": "a1ad70a2",
   "metadata": {},
   "outputs": [],
   "source": [
    "for i in range(len(longitudes)):\n",
    "    longitudes[i]=longitudes[i][0:-1]"
   ]
  },
  {
   "cell_type": "markdown",
   "id": "40cecff4",
   "metadata": {},
   "source": [
    "## check attributes"
   ]
  },
  {
   "cell_type": "code",
   "execution_count": 141,
   "id": "a3072aea",
   "metadata": {},
   "outputs": [
    {
     "name": "stdout",
     "output_type": "stream",
     "text": [
      "True\n",
      "True\n"
     ]
    }
   ],
   "source": [
    "print(len(names) == len(longitudes))\n",
    "print(len(names) == len(latitudes))"
   ]
  },
  {
   "cell_type": "markdown",
   "id": "e88c1690",
   "metadata": {},
   "source": [
    "## Create Dataframe"
   ]
  },
  {
   "cell_type": "code",
   "execution_count": 136,
   "id": "fc75b779",
   "metadata": {},
   "outputs": [],
   "source": [
    "info ={\n",
    "    'Country':names,\n",
    "    \"latitude\":latitudes,\n",
    "    'longitude':longitudes\n",
    "}"
   ]
  },
  {
   "cell_type": "code",
   "execution_count": 137,
   "id": "937adf2d",
   "metadata": {},
   "outputs": [],
   "source": [
    "df = pd.DataFrame(info)"
   ]
  },
  {
   "cell_type": "code",
   "execution_count": 138,
   "id": "8979d162",
   "metadata": {},
   "outputs": [
    {
     "data": {
      "text/html": [
       "<div>\n",
       "<style scoped>\n",
       "    .dataframe tbody tr th:only-of-type {\n",
       "        vertical-align: middle;\n",
       "    }\n",
       "\n",
       "    .dataframe tbody tr th {\n",
       "        vertical-align: top;\n",
       "    }\n",
       "\n",
       "    .dataframe thead th {\n",
       "        text-align: right;\n",
       "    }\n",
       "</style>\n",
       "<table border=\"1\" class=\"dataframe\">\n",
       "  <thead>\n",
       "    <tr style=\"text-align: right;\">\n",
       "      <th></th>\n",
       "      <th>Country</th>\n",
       "      <th>latitude</th>\n",
       "      <th>longitude</th>\n",
       "    </tr>\n",
       "  </thead>\n",
       "  <tbody>\n",
       "    <tr>\n",
       "      <th>0</th>\n",
       "      <td>Afghanistan</td>\n",
       "      <td>33° 56 2.54\" N</td>\n",
       "      <td>67° 42 12.35\" E</td>\n",
       "    </tr>\n",
       "    <tr>\n",
       "      <th>1</th>\n",
       "      <td>Aland Islands</td>\n",
       "      <td>60° 11 58.38\" N</td>\n",
       "      <td>20° 22 16.22\" E</td>\n",
       "    </tr>\n",
       "    <tr>\n",
       "      <th>2</th>\n",
       "      <td>Albania</td>\n",
       "      <td>41° 09 10.46\" N</td>\n",
       "      <td>20° 09 38.06\" E</td>\n",
       "    </tr>\n",
       "    <tr>\n",
       "      <th>3</th>\n",
       "      <td>Algeria</td>\n",
       "      <td>28° 01 44.34\" N</td>\n",
       "      <td>1° 39 60.00\" E</td>\n",
       "    </tr>\n",
       "    <tr>\n",
       "      <th>4</th>\n",
       "      <td>American Samoa</td>\n",
       "      <td>-14° 18 23.07\" S</td>\n",
       "      <td>-170° 41 42.06\" W</td>\n",
       "    </tr>\n",
       "  </tbody>\n",
       "</table>\n",
       "</div>"
      ],
      "text/plain": [
       "           Country           latitude           longitude\n",
       "0     Afghanistan      33° 56 2.54\" N     67° 42 12.35\" E\n",
       "1   Aland Islands     60° 11 58.38\" N     20° 22 16.22\" E\n",
       "2         Albania     41° 09 10.46\" N     20° 09 38.06\" E\n",
       "3         Algeria     28° 01 44.34\" N      1° 39 60.00\" E\n",
       "4  American Samoa    -14° 18 23.07\" S   -170° 41 42.06\" W"
      ]
     },
     "execution_count": 138,
     "metadata": {},
     "output_type": "execute_result"
    }
   ],
   "source": [
    "df.head()"
   ]
  },
  {
   "cell_type": "markdown",
   "id": "938f494c",
   "metadata": {},
   "source": [
    "## Save data"
   ]
  },
  {
   "cell_type": "code",
   "execution_count": 139,
   "id": "f1595fdb",
   "metadata": {},
   "outputs": [],
   "source": [
    "df.to_csv('dataV2.csv',index=False)"
   ]
  },
  {
   "cell_type": "code",
   "execution_count": null,
   "id": "b5ac22b7",
   "metadata": {},
   "outputs": [],
   "source": []
  },
  {
   "cell_type": "code",
   "execution_count": null,
   "id": "6262d97b",
   "metadata": {},
   "outputs": [],
   "source": []
  }
 ],
 "metadata": {
  "kernelspec": {
   "display_name": "Python 3 (ipykernel)",
   "language": "python",
   "name": "python3"
  },
  "language_info": {
   "codemirror_mode": {
    "name": "ipython",
    "version": 3
   },
   "file_extension": ".py",
   "mimetype": "text/x-python",
   "name": "python",
   "nbconvert_exporter": "python",
   "pygments_lexer": "ipython3",
   "version": "3.10.5"
  }
 },
 "nbformat": 4,
 "nbformat_minor": 5
}
